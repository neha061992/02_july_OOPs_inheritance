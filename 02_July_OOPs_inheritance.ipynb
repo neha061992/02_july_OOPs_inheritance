{
 "cells": [
  {
   "cell_type": "markdown",
   "id": "03908433",
   "metadata": {},
   "source": [
    "### 1.Explain what inheritance is in object-oriented programming and why it is used.\n"
   ]
  },
  {
   "cell_type": "markdown",
   "id": "8de1e8b5",
   "metadata": {},
   "source": [
    "One of the core concepts in object-oriented programming (OOP) languages is inheritance. \n",
    "It is a mechanism that allows you to create a hierarchy of classes that share a set of \n",
    "properties and methods by deriving a class from another class. Inheritance is the capability \n",
    "of one class to derive or inherit the properties from another class.\n",
    "\n",
    "Python Inheritance Syntax\n",
    "\n",
    "Class BaseClass:\n",
    "    \n",
    "    {Body}\n",
    "\n",
    "Class DerivedClass(BaseClass):\n",
    "    \n",
    "    {Body}\n",
    "    \n",
    "    \n",
    "    The class that is being inherited from is called the \"base class,\" \"parent class,\" or \"superclass,\" \n",
    "while the class that inherits from it is referred to as the \"derived class,\" \"child class,\" or \"subclass.\"\n",
    "\n",
    "Inheritance is used for several key reasons:\n",
    "\n",
    "1.Code Reusability\n",
    "\n",
    "2.Hierarchy and Organization\n",
    "\n",
    "3.Polymorphism\n",
    "\n",
    "4.Method Overriding\n",
    "\n",
    "5.Extensibility\n",
    "\n",
    "\n",
    "\n",
    "\n",
    "\n",
    "\n"
   ]
  },
  {
   "cell_type": "code",
   "execution_count": 2,
   "id": "170ef057",
   "metadata": {},
   "outputs": [
    {
     "name": "stdout",
     "output_type": "stream",
     "text": [
      "Neha False\n",
      "Shankar True\n"
     ]
    }
   ],
   "source": [
    "# A Python program to demonstrate inheritance\n",
    " \n",
    "# Base class. Note object in bracket.\n",
    "# (Generally, object is made ancestor of all classes)\n",
    "# In Python 3.x \"class Person\" is\n",
    "# equivalent to \"class Person(object)\"\n",
    " \n",
    " \n",
    "class Person(object):\n",
    " \n",
    "    # Constructor\n",
    "    def __init__(self, name):\n",
    "        self.name = name\n",
    " \n",
    "    # To get name\n",
    "    def getName(self):\n",
    "        return self.name\n",
    " \n",
    "    # To check if this person is an employee\n",
    "    def isEmployee(self):\n",
    "        return False\n",
    " \n",
    " \n",
    "# Inherited or Subclass (Note Person in bracket)\n",
    "class Employee(Person):\n",
    " \n",
    "    # Here we return true\n",
    "    def isEmployee(self):\n",
    "        return True\n",
    " \n",
    " \n",
    "# Driver code\n",
    "emp = Person(\"Neha\")  # An Object of Person\n",
    "print(emp.getName(), emp.isEmployee())\n",
    " \n",
    "emp = Employee(\"Shankar\")  # An Object of Employee\n",
    "print(emp.getName(), emp.isEmployee())"
   ]
  },
  {
   "cell_type": "markdown",
   "id": "4a2efe9b",
   "metadata": {},
   "source": [
    "### 2. Discuss the concept of single inheritance and multiple inheritance, highlighting their differences and advantages."
   ]
  },
  {
   "cell_type": "markdown",
   "id": "7a52dd9a",
   "metadata": {},
   "source": [
    "Single Inheritance:\n",
    "\n",
    "Single inheritance is a concept in object-oriented programming (OOP) where a class can inherit\n",
    "properties and behaviors from only one parent class. In other words, a derived class can have only\n",
    "one immediate base class. This creates a linear hierarchy of classes, where each class\n",
    "extends the one directly above it.\n",
    "\n",
    "\n",
    "Advantages of Single Inheritance:\n",
    "\n",
    "Simplicity: Single inheritance keeps the class hierarchy straightforward and easy to follow.\n",
    "            There's no ambiguity about which parent class's attributes and methods are inherited.\n",
    "\n",
    "Code Reusability: While limited to a single parent, single inheritance still allows for code reuse. \n",
    "                  Derived classes can inherit and modify the behavior of their parent class.\n",
    "\n",
    "Avoiding Diamond Problem: The diamond problem is a complication that arises in multiple inheritance \n",
    "                          when a class inherits from two classes that have a common base class. In single \n",
    "                          inheritance, this problem is avoided altogether.\n",
    "\n",
    "Multiple Inheritance:\n",
    "\n",
    "Multiple inheritance is another OOP concept where a class can inherit properties and behaviors from more \n",
    "than one parent class. This leads to a complex hierarchy of classes, with each class potentially inheriting\n",
    "from multiple classes. This can be powerful for creating complex relationships and sharing functionality among\n",
    "different classes.\n",
    "\n",
    "Advantages of Multiple Inheritance:\n",
    "\n",
    "Enhanced Functionality: Multiple inheritance allows a class to inherit features from multiple sources, enabling \n",
    "                        the creation of rich and versatile classes that combine characteristics of different parent classes.\n",
    "\n",
    "Code Reusability: Multiple inheritance allows for a higher degree of code reuse, as a class can inherit attributes\n",
    "                  and methods from multiple parent classes.\n",
    "\n",
    "Mixins and Interfaces: Multiple inheritance is often used to implement mixins or interfaces. Mixins are small classes\n",
    "                       that provide specific behaviors that can be added to multiple classes, enhancing modularity and\n",
    "                       reducing redundancy.\n",
    "\n",
    "Differences:\n",
    "\n",
    "Number of Parents: The primary difference between single and multiple inheritance is the number of parent classes a derived class can inherit from. Single inheritance allows only one parent class, while multiple inheritance allows multiple parent classes.\n",
    "\n",
    "Hierarchy Complexity: Multiple inheritance can lead to complex class hierarchies and introduce ambiguity, especially when conflicts arise due to naming collisions or method overrides.\n",
    "\n",
    "Diamond Problem: As mentioned earlier, the diamond problem is a specific issue that can occur in multiple inheritance when two classes with a common base class are inherited by a single derived class. This can result in ambiguity regarding method resolution.\n",
    "\n",
    "In summary, single inheritance simplifies class hierarchies and avoids complications like the diamond problem, while multiple inheritance provides greater flexibility and code reuse, albeit with increased complexity and the potential for conflicts. The choice between single and multiple inheritance depends on the specific design goals and requirements of the software being developed.\n"
   ]
  },
  {
   "cell_type": "markdown",
   "id": "5d2d92d5",
   "metadata": {},
   "source": [
    "### 3. Explain the terms \"base class\" and \"derived class\" in the context of inheritance."
   ]
  },
  {
   "cell_type": "markdown",
   "id": "5a1f61ad",
   "metadata": {},
   "source": [
    "In the context of inheritance, \"base class\" and \"derived class\" are fundamental concepts that describe the relationship\n",
    "between classes within an object-oriented programming (OOP) framework.\n",
    "\n",
    "Base Class (Parent Class, Superclass):\n",
    "The base class is the class that serves as the foundation for inheritance. It is the class from which another class \n",
    "(the derived class) inherits attributes and methods. The base class contains the common properties and behaviors that \n",
    "are shared among multiple derived classes. It is also sometimes referred to as the \"parent class\" or \"superclass.\"\n",
    "\n",
    "The base class is defined first and serves as a blueprint for creating more specialized classes. It provides a set \n",
    "of attributes and methods that can be reused by its derived classes. Base classes typically encapsulate general \n",
    "characteristics and behaviors that are shared by a group of related classes.\n",
    "\n",
    "Derived Class (Child Class, Subclass):\n",
    "The derived class is a new class that inherits properties and behaviors from a base class. It is created by extending\n",
    "the base class and adding specific attributes and methods that are unique to the derived class. The derived class inherits\n",
    "all the public and protected members of the base class and can also override or extend these members as needed.\n",
    "\n",
    "Derived classes are more specialized than their base classes. They can add extra features, methods, and properties while \n",
    "still having access to the functionalities inherited from the base class. The derived class can also define its own specific \n",
    "behaviors or characteristics that differentiate it from other derived classes."
   ]
  },
  {
   "cell_type": "code",
   "execution_count": 4,
   "id": "d0b82ed9",
   "metadata": {},
   "outputs": [],
   "source": [
    "#Example:-\n",
    "\n",
    "class Animal(): #parent class or base class\n",
    "    def __init__(self,name): #cunstructor\n",
    "        self.name=name\n",
    "        \n",
    "    def speak(self):\n",
    "        pass\n",
    "    \n",
    "class Dog(Animal): # derived class or child class\n",
    "    def speak(self):\n",
    "        return \"Woof!\"\n",
    "    \n",
    "class Cat(Animal): # derived class or child class \n",
    "    def speak(self):\n",
    "        return \"Meow!\"\n"
   ]
  },
  {
   "cell_type": "code",
   "execution_count": 13,
   "id": "8841d577",
   "metadata": {},
   "outputs": [
    {
     "name": "stdout",
     "output_type": "stream",
     "text": [
      "The dog name is: Puppy\n",
      "The sound is: Woof!\n",
      "The cat name is: Kitty\n",
      "The cat sound is:  Meow!\n"
     ]
    }
   ],
   "source": [
    "dog=Dog(\"Puppy\")\n",
    "cat=Cat(\"Kitty\")\n",
    "\n",
    "print(\"The dog name is:\",dog.name)\n",
    "print(\"The sound is:\",dog.speak())\n",
    "\n",
    "\n",
    "print(\"The cat name is:\",cat.name)\n",
    "print(\"The cat sound is: \",cat.speak())"
   ]
  },
  {
   "cell_type": "markdown",
   "id": "ed751267",
   "metadata": {},
   "source": [
    "In this example, Animal is the base class, and both Dog and Cat are derived classes. They inherit the name attribute and speak method from the Animal base class and customize the speak method according to their specific sounds."
   ]
  },
  {
   "cell_type": "markdown",
   "id": "91697226",
   "metadata": {},
   "source": [
    "### 4. What is the significance of the \"protected\" access modifier in inheritance? How does it differ from \"private\" and \"public\" modifiers?"
   ]
  },
  {
   "cell_type": "markdown",
   "id": "9feaad01",
   "metadata": {},
   "source": [
    "In object-oriented programming, access modifiers are keywords that define the visibility and accessibility of class\n",
    "members (attributes and methods) within and outside the class. These modifiers control how different parts of the \n",
    "program can interact with class members. The three common access modifiers are \"private,\" \"protected,\" and \"public.\"\n",
    "\n",
    "**1. Private Access Modifier:**\n",
    "Members marked as private are only accessible within the class where they are defined. They cannot be accessed or modified from outside the class, including derived classes. This encapsulation ensures that the internal implementation details of a class are hidden from external components, promoting data integrity and minimizing unintended interference.\n",
    "\n",
    "**2. Protected Access Modifier:**\n",
    "Members marked as protected are accessible within the class where they are defined and within derived classes. This means that while protected members cannot be accessed by code outside the class hierarchy, they can be inherited and accessed by derived classes. Protected members provide a level of encapsulation while allowing for controlled sharing of attributes and methods among related classes.\n",
    "\n",
    "**3. Public Access Modifier:**\n",
    "Members marked as public are accessible from anywhere in the program, including external classes and derived classes. There are no restrictions on accessing public members. They are meant to represent the externally visible interface of a class and can be freely used by other parts of the program.\n",
    "\n",
    "**Significance of the \"Protected\" Access Modifier in Inheritance:**\n",
    "The \"protected\" access modifier plays a crucial role in inheritance by striking a balance between encapsulation and sharing of attributes and methods among related classes. It allows derived classes to inherit and use attributes and methods of their base class, enabling code reuse and extension of functionality. Protected members give derived classes access to the internals of the base class, while still preventing unrestricted access from outside the class hierarchy.\n",
    "\n"
   ]
  },
  {
   "cell_type": "code",
   "execution_count": 18,
   "id": "466cc0f3",
   "metadata": {},
   "outputs": [
    {
     "name": "stdout",
     "output_type": "stream",
     "text": [
      "public\n",
      "protected\n",
      "public\n",
      "protected\n"
     ]
    }
   ],
   "source": [
    "#Example:-\n",
    "\n",
    "\n",
    "class Base():\n",
    "    def __init__(self):\n",
    "        self.public_var=\"public\"\n",
    "        self._protected_var=\"protected\"\n",
    "        self.__private_var=\"private\"\n",
    "        \n",
    "class Derived(Base):\n",
    "    def access_base_var(self):\n",
    "        print(self.public_var)     # accessible public modifier\n",
    "        print(self._protected_var) #accessible protected modifier\n",
    "        print(self.__private_var)  # Not accessible private modifier\n",
    "        \n",
    "base_obj=Base()\n",
    "derived_obj=Derived()\n",
    "\n",
    "print(base_obj.public_var)\n",
    "print(base_obj._protected_var)\n",
    "#print(base_obj.__private_var)\n",
    "\n",
    "print(derived_obj.public_var)\n",
    "print(derived_obj._protected_var)\n",
    "#print(derived_obj.__private_var)"
   ]
  },
  {
   "cell_type": "markdown",
   "id": "de7f4db2",
   "metadata": {},
   "source": [
    "### 5. What is the purpose of the \"super\" keyword in inheritance? Provide an example."
   ]
  },
  {
   "cell_type": "markdown",
   "id": "b0bf7da4",
   "metadata": {},
   "source": [
    "The super keyword in object-oriented programming is used to refer to the immediate parent class of a derived class. It is often used to call methods and access attributes from the parent class within the context of the derived class. This is particularly useful when you want to extend or override methods from the parent class while still retaining the functionality defined in the parent class.\n",
    "\n",
    "The primary purpose of the super keyword is to facilitate a clear and controlled way of invoking parent class methods and constructors while working with inheritance. It helps avoid duplication of code and ensures that changes made to the parent class are automatically reflected in the derived classes.\n"
   ]
  },
  {
   "cell_type": "code",
   "execution_count": 23,
   "id": "4651df78",
   "metadata": {},
   "outputs": [
    {
     "name": "stdout",
     "output_type": "stream",
     "text": [
      "Honey makes a sound\n",
      "Honey barks\n"
     ]
    }
   ],
   "source": [
    "#Example:-\n",
    "\n",
    "class Animal():\n",
    "    def __init__(self,name):\n",
    "        self.name=name\n",
    "        \n",
    "    def speak(self):\n",
    "        print(f\"{self.name} makes a sound\")\n",
    "        \n",
    "class Dog(Animal):\n",
    "    def __init__(self,name,breed):\n",
    "        super().__init__(name) # call the cunstructor of the parent class\n",
    "        self.breed=breed\n",
    "        \n",
    "    def speak(self):\n",
    "        super().speak() #call the speak method of parent class\n",
    "        print(f\"{self.name} barks\")\n",
    "dog=Dog(\"Honey\",\"Pug\") \n",
    "dog.speak()\n",
    "        \n"
   ]
  },
  {
   "cell_type": "markdown",
   "id": "236f4361",
   "metadata": {},
   "source": [
    "### 6. Create a base class called \"Vehicle\" with attributes like \"make\", \"model\", and \"year\".Then, create a derived class called \"Car\" that inherits from \"Vehicle\" and adds an attribute called \"fuel_type\". Implement appropriate methods in both classes."
   ]
  },
  {
   "cell_type": "code",
   "execution_count": 43,
   "id": "2c3cb29d",
   "metadata": {},
   "outputs": [
    {
     "data": {
      "text/plain": [
       "'Make:toyota,Model:zxi,Year:2021,Fuel_type:petrol'"
      ]
     },
     "execution_count": 43,
     "metadata": {},
     "output_type": "execute_result"
    }
   ],
   "source": [
    "class Vehicle():\n",
    "    def __init__(self,make,model,year):\n",
    "        self.make=make\n",
    "        self.model=model\n",
    "        self.year=year\n",
    "\n",
    "    def display_info(self):\n",
    "        return (f\"Make:{self.make},Model:{self.model},Year:{self.year}\")\n",
    "        \n",
    "        \n",
    "        \n",
    "class Car(Vehicle):\n",
    "    def __init__(self,make,model,year,fuel_type):\n",
    "        super().__init__(make,model,year)\n",
    "        self.fuel_type=fuel_type\n",
    "        \n",
    "    def display_info(self):\n",
    "        vehicle_info=super().display_info()\n",
    "        return (f\"{vehicle_info},Fuel_type:{self.fuel_type}\")\n",
    "    \n",
    "        \n",
    "car1=Car(\"toyota\",\"zxi\",2021,\"petrol\")\n",
    "car1.display_info()\n",
    "\n",
    "\n",
    "    "
   ]
  },
  {
   "cell_type": "markdown",
   "id": "02eaf0bc",
   "metadata": {},
   "source": [
    "In this example:\n",
    "\n",
    "The Vehicle class defines a constructor that initializes the attributes make, model, and year, as well as a display_info method that returns a formatted string with the vehicle's information.\n",
    "The Car class is derived from the Vehicle class and has its own constructor that takes an additional fuel_type parameter. The constructor of the parent class is called using super().__init__(make, model, year) to properly initialize the attributes inherited from the parent class. The display_info method of the parent class is also called using super().display_info() to include the vehicle information in the output.\n",
    "An instance of the Car class is created with the attributes \"Toyota\", \"Camry\", 2022, and \"Gasoline\".\n",
    "The display_info method of the Car class is called on the instance, which displays a formatted string containing all the vehicle's information, including the fuel type.\n",
    "When you run the code, the output will be:\n",
    "\n",
    "Make: Toyota, Model: Camry, Year: 2022, Fuel Type: Gasoline"
   ]
  },
  {
   "cell_type": "markdown",
   "id": "58a6f93c",
   "metadata": {},
   "source": [
    "### 7. Create a base class called \"Employee\" with attributes like \"name\" and \"salary.\"Derive two classes, \"Manager\" and \"Developer,\" from \"Employee.\" Add an additional attribute called \"department\" for the \"Manager\" class and \"programming_language\"for the \"Developer\" class.\n"
   ]
  },
  {
   "cell_type": "code",
   "execution_count": 68,
   "id": "2f4360bc",
   "metadata": {},
   "outputs": [
    {
     "name": "stdout",
     "output_type": "stream",
     "text": [
      "Name of the employee is neha shankar, salary is 50000,Department is DS\n",
      "Name of the employee is avi, salary is 75000,Programming Language is Python\n"
     ]
    }
   ],
   "source": [
    "class Employee():\n",
    "    def __init__(self,name,salary):\n",
    "        self.name=name\n",
    "        self.salary=salary\n",
    "        \n",
    "    def display_info(self):\n",
    "        return (f\"Name of the employee is {self.name}, salary is {self.salary}\")\n",
    "    \n",
    "    \n",
    "class Manager(Employee):\n",
    "    def __init__(self,name,salary,department):\n",
    "        super().__init__(name,salary)\n",
    "        self.department=department\n",
    "        \n",
    "    def display_info(self):\n",
    "        employee_info=super().display_info()\n",
    "        return (f\"{employee_info},Department is {self.department}\")\n",
    "        \n",
    "\n",
    "class Developer(Employee): \n",
    "    def __init__(self,name,salary,programming_language):\n",
    "        super().__init__(name,salary)\n",
    "        self.programming_language= programming_language\n",
    "    \n",
    "    def display_info(self):\n",
    "        employee_info=super().display_info()\n",
    "        return(f\"{employee_info},Programming Language is {self.programming_language}\")\n",
    "    \n",
    "#create instances of the Manager and Developer classes\n",
    "mngr=Manager(\"neha shankar\",50000,\"DS\")\n",
    "print(mngr.display_info())\n",
    "\n",
    "devr=Developer(\"avi\",75000,\"Python\")\n",
    "print(devr.display_info())"
   ]
  },
  {
   "cell_type": "markdown",
   "id": "677e8868",
   "metadata": {},
   "source": [
    "### 8. Design a base class called \"Shape\" with attributes like \"colour\" and \"border_width.\"Create derived classes, \"Rectangle\" and \"Circle,\" that inherit from \"Shape\" and add specific attributes like \"length\" and \"width\" for the \"Rectangle\" class and \"radius\" for the \"Circle\" class."
   ]
  },
  {
   "cell_type": "code",
   "execution_count": 77,
   "id": "494d475f",
   "metadata": {},
   "outputs": [
    {
     "name": "stdout",
     "output_type": "stream",
     "text": [
      "color:red,border_width:20,length:50,width:100 [All measurment will be in mm]\n",
      "color:yello,border_width:20,radius:75 [All measurment will be in mm]\n"
     ]
    }
   ],
   "source": [
    "class Shape():\n",
    "    def __init__(self,color,border_width):\n",
    "        self.color=color\n",
    "        self.border_width=border_width\n",
    "        \n",
    "    def display_info(self):\n",
    "        return (f\"color:{self.color},border_width:{self.border_width}\")\n",
    "                \n",
    "                \n",
    "class Rectangle(Shape):\n",
    "    def __init__(self,color,border_width,length,width):\n",
    "        super().__init__(color,border_width)\n",
    "        self.length=length\n",
    "        self.width=width        \n",
    "                \n",
    "    def display_info(self):\n",
    "        shape_info=super().display_info()\n",
    "        return (f\"{shape_info},length:{self.length},width:{self.width}\")  \n",
    "                \n",
    "                \n",
    "class Circle(Shape):\n",
    "    def __init__(self,color,border_width,radius):\n",
    "        super().__init__(color,border_width)\n",
    "        self.radius=radius\n",
    "                \n",
    "                \n",
    "    def display_info(self):\n",
    "        shape_info=super().display_info()\n",
    "        return (f\"{shape_info},radius:{self.radius}\") \n",
    "                \n",
    "                               \n",
    "Rec1=Rectangle(\"red\",\"20\",50,100)\n",
    "print((Rec1.display_info()),\"[All measurment will be in mm]\")                \n",
    "                                \n",
    "cer1=Circle(\"yello\",\"20\",75)\n",
    "print((cer1.display_info()),\"[All measurment will be in mm]\")                                         \n",
    "                "
   ]
  },
  {
   "cell_type": "markdown",
   "id": "2307136f",
   "metadata": {},
   "source": [
    "The Shape class defines a constructor that initializes the attributes colour and border_width, as well as a display_info method that returns a formatted string with the shape's information.\n",
    "The Rectangle class is derived from the Shape class and adds additional attributes, length and width. The constructor of the parent class is called using super().__init__(colour, border_width) to properly initialize the attributes inherited from the parent class. The display_info method of the parent class is also called using super().display_info() to include the shape information in the output.\n",
    "The Circle class is also derived from the Shape class and adds an additional attribute, radius, following a similar pattern of calling the parent class's constructor and method.\n",
    "Instances of the Rectangle and Circle classes are created with appropriate attributes.\n",
    "The display_info method of each class is called on their respective instances, which displays formatted strings containing the shape's information along with the specific attributes."
   ]
  },
  {
   "cell_type": "markdown",
   "id": "784e90f9",
   "metadata": {},
   "source": [
    "### 9. Create a base class called \"Device\" with attributes like \"brand\" and \"model.\" Derive two classes, \"Phone\" and \"Tablet,\" from \"Device.\" Add specific attributes like \"screen_size\" for the \"Phone\" class and \"battery_capacity\" for the \"Tablet\" class.\n"
   ]
  },
  {
   "cell_type": "code",
   "execution_count": 10,
   "id": "b2d9f2b4",
   "metadata": {},
   "outputs": [
    {
     "name": "stdout",
     "output_type": "stream",
     "text": [
      "Brand : moto, Model : edge 40,screen_size :65mm\n",
      "Brand : samsung, Model : note12,Battery_Capacity :5000mah\n"
     ]
    }
   ],
   "source": [
    "class Device():\n",
    "    def __init__(self,brand,model):\n",
    "        self.brand=brand\n",
    "        self.model=model\n",
    "        \n",
    "    def display_info(self):\n",
    "        return (f\"Brand : {self.brand}, Model : {self.model}\")\n",
    "    \n",
    "class Phone(Device):\n",
    "    def __init__(self,brand,model,screen_size):\n",
    "        super().__init__(brand,model)\n",
    "        self.screen_size=screen_size\n",
    "        \n",
    "    def display_info(self):\n",
    "        Device_info=super().display_info()\n",
    "        return (f\"{Device_info},screen_size :{self.screen_size}\")\n",
    "    \n",
    "class Tablet(Device):\n",
    "    def __init__(self,brand,model,battery_capacity):\n",
    "        super().__init__(brand,model)\n",
    "        self.battery_capacity=battery_capacity\n",
    "        \n",
    "        \n",
    "    def display_info(self):\n",
    "        Device_info=super().display_info()\n",
    "        return (f\"{Device_info},Battery_Capacity :{self.battery_capacity}\")\n",
    "    \n",
    "mobile=Phone(\"moto\",\"edge 40\",\"65mm\")  \n",
    "print(mobile.display_info())\n",
    "\n",
    "\n",
    "Tab1=Tablet(\"samsung\",\"note12\",\"5000mah\")\n",
    "print(Tab1.display_info())\n",
    "    "
   ]
  },
  {
   "cell_type": "markdown",
   "id": "6e73889a",
   "metadata": {},
   "source": [
    "The Device class defines a constructor that initializes the attributes brand and model, as well as a display_info method that returns a formatted string with the device's information.\n",
    "The Phone class is derived from the Device class and adds an additional attribute, screen_size. The constructor of the parent class is called using super().__init__(brand, model) to properly initialize the attributes inherited from the parent class. The display_info method of the parent class is also called using super().display_info() to include the device information in the output.\n",
    "The Tablet class is also derived from the Device class and adds an additional attribute, battery_capacity, following a similar pattern of calling the parent class's constructor and method.\n",
    "Instances of the Phone and Tablet classes are created with appropriate attributes.\n",
    "The display_info method of each class is called on their respective instances, which displays formatted strings containing the device's information along with the specific attributes."
   ]
  },
  {
   "cell_type": "markdown",
   "id": "cebdaa12",
   "metadata": {},
   "source": [
    "### 10. Create a base class called \"BankAccount\" with attributes like \"account_number\" and \"balance.\" Derive two classes, \"SavingsAccount\" and \"CheckingAccount,\" from \"BankAccount.\" Add specific methods like \"calculate_interest\" for the \"SavingsAccount\" class and \"deduct_fees\" for the \"CheckingAccount\" class."
   ]
  },
  {
   "cell_type": "code",
   "execution_count": 22,
   "id": "d36ca22c",
   "metadata": {},
   "outputs": [
    {
     "name": "stdout",
     "output_type": "stream",
     "text": [
      "Account Number: 123456789, Balance: $1000.00\n",
      "Interest Amount: $25.00\n",
      "Account Number: 987654321, Balance: $1500.00\n",
      "Transaction Fee Deducted: $5.00\n",
      "Account Number: 987654321, Balance: $1495.00\n"
     ]
    }
   ],
   "source": [
    "class BankAccount:\n",
    "    def __init__(self, account_number, balance):\n",
    "        self.account_number = account_number\n",
    "        self.balance = balance\n",
    "\n",
    "    def display_info(self):\n",
    "        return f\"Account Number: {self.account_number}, Balance: ${self.balance:.2f}\"\n",
    "\n",
    "class SavingsAccount(BankAccount):\n",
    "    def __init__(self, account_number, balance, interest_rate):\n",
    "        super().__init__(account_number, balance)  # Call the constructor of the parent class\n",
    "        self.interest_rate = interest_rate\n",
    "\n",
    "    def calculate_interest(self):\n",
    "        interest = self.balance * (self.interest_rate / 100)\n",
    "        return f\"Interest Amount: ${interest:.2f}\"\n",
    "\n",
    "class CheckingAccount(BankAccount):\n",
    "    def __init__(self, account_number, balance, transaction_fee):\n",
    "        super().__init__(account_number, balance)  # Call the constructor of the parent class\n",
    "        self.transaction_fee = transaction_fee\n",
    "\n",
    "    def deduct_fees(self):\n",
    "        self.balance -= self.transaction_fee\n",
    "        return f\"Transaction Fee Deducted: ${self.transaction_fee:.2f}\"\n",
    "\n",
    "# Create instances of the SavingsAccount and CheckingAccount classes\n",
    "savings_account = SavingsAccount(\"123456789\", 1000, 2.5)\n",
    "checking_account = CheckingAccount(\"987654321\", 1500, 5)\n",
    "\n",
    "# Display information about the savings account and calculate interest\n",
    "print(savings_account.display_info())\n",
    "print(savings_account.calculate_interest())\n",
    "\n",
    "# Display information about the checking account and deduct fees\n",
    "print(checking_account.display_info())\n",
    "print(checking_account.deduct_fees())\n",
    "print(checking_account.display_info())  # Display updated balance\n"
   ]
  },
  {
   "cell_type": "code",
   "execution_count": null,
   "id": "2902e8a4",
   "metadata": {},
   "outputs": [],
   "source": [
    "\n",
    "\n"
   ]
  },
  {
   "cell_type": "code",
   "execution_count": null,
   "id": "df624398",
   "metadata": {},
   "outputs": [],
   "source": []
  }
 ],
 "metadata": {
  "kernelspec": {
   "display_name": "Python 3 (ipykernel)",
   "language": "python",
   "name": "python3"
  },
  "language_info": {
   "codemirror_mode": {
    "name": "ipython",
    "version": 3
   },
   "file_extension": ".py",
   "mimetype": "text/x-python",
   "name": "python",
   "nbconvert_exporter": "python",
   "pygments_lexer": "ipython3",
   "version": "3.10.9"
  }
 },
 "nbformat": 4,
 "nbformat_minor": 5
}
